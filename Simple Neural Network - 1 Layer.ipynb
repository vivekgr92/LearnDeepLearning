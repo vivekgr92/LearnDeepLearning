{
 "cells": [
  {
   "cell_type": "code",
   "execution_count": 15,
   "metadata": {},
   "outputs": [
    {
     "name": "stdout",
     "output_type": "stream",
     "text": [
      "Actual Output\n",
      "[[0]\n",
      " [0]\n",
      " [1]\n",
      " [1]]\n",
      "Output after training : \n",
      "[[0.00966449]\n",
      " [0.00786506]\n",
      " [0.99358898]\n",
      " [0.99211957]]\n"
     ]
    }
   ],
   "source": [
    "import numpy as np\n",
    "\n",
    "#sigmoid Function\n",
    "\n",
    "def nonlin(x, deriv=False):\n",
    "    if(deriv==True):\n",
    "        return x*(1-x)\n",
    "    return 1/(1+np.exp(-x))\n",
    "\n",
    "#input dataset\n",
    "X = np.array([[0,0,1],\n",
    "            [0,1,1],\n",
    "            [1,0,1],\n",
    "            [1,1,1]])\n",
    "\n",
    "#output dataset\n",
    "y = np.array([[0,0,1,1]]).T\n",
    "\n",
    "#random seed\n",
    "np.random.seed(1)\n",
    "\n",
    "#Initialize Weights\n",
    "W0= 2*np.random.random((3,1))-1\n",
    "\n",
    "#Training\n",
    "for iter in xrange(1000000):\n",
    "    #Forward Propagation\n",
    "    l1 = nonlin(np.dot(X,W0))\n",
    "\n",
    "    #Error\n",
    "    l1_error = y-l1\n",
    "\n",
    "    l1_delta = l1_error*nonlin(l1,True)\n",
    "\n",
    "    #Update Weights\n",
    "    W0 += np.dot(X.T,l1_delta)\n",
    "    \n",
    "print \"Actual Output\"\n",
    "\n",
    "print \"Output after training : \"\n",
    "print l1\n"
   ]
  },
  {
   "cell_type": "code",
   "execution_count": null,
   "metadata": {},
   "outputs": [],
   "source": []
  },
  {
   "cell_type": "code",
   "execution_count": null,
   "metadata": {},
   "outputs": [],
   "source": []
  },
  {
   "cell_type": "code",
   "execution_count": null,
   "metadata": {},
   "outputs": [],
   "source": []
  },
  {
   "cell_type": "code",
   "execution_count": null,
   "metadata": {},
   "outputs": [],
   "source": []
  }
 ],
 "metadata": {
  "kernelspec": {
   "display_name": "Python 2",
   "language": "python",
   "name": "python2"
  },
  "language_info": {
   "codemirror_mode": {
    "name": "ipython",
    "version": 2
   },
   "file_extension": ".py",
   "mimetype": "text/x-python",
   "name": "python",
   "nbconvert_exporter": "python",
   "pygments_lexer": "ipython2",
   "version": "2.7.15+"
  }
 },
 "nbformat": 4,
 "nbformat_minor": 2
}
