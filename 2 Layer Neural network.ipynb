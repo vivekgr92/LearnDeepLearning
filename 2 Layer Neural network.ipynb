{
 "cells": [
  {
   "cell_type": "code",
   "execution_count": 3,
   "metadata": {},
   "outputs": [],
   "source": [
    "import numpy as np \n",
    "import pandas as pd \n",
    "import matplotlib.pyplot as plt\n",
    "from sklearn import preprocessing\n",
    "from sklearn.preprocessing import MinMaxScaler\n",
    "from sklearn import metrics\n",
    "from sklearn.metrics import confusion_matrix\n",
    "import itertools"
   ]
  },
  {
   "cell_type": "code",
   "execution_count": 4,
   "metadata": {},
   "outputs": [],
   "source": [
    "class dlnet:\n",
    "    def __init__(self, x, y):\n",
    "        self.X=x\n",
    "        self.Y=y\n",
    "        self.Yh=np.zeros((1,self.Y.shape[1]))        \n",
    "        self.L=2\n",
    "        self.dims = [9, 15, 1]        \n",
    "        self.param = {}\n",
    "        self.ch = {}\n",
    "        self.grad = {}        \n",
    "        self.loss = []\n",
    "        self.lr=0.003\n",
    "        self.sam = self.Y.shape[1]"
   ]
  },
  {
   "cell_type": "code",
   "execution_count": 5,
   "metadata": {},
   "outputs": [],
   "source": [
    "def nInit(self):    \n",
    "        np.random.seed(1)\n",
    "        self.param['W1'] = np.random.randn(self.dims[1], self.dims[0]) / np.sqrt(self.dims[0]) \n",
    "        self.param['b1'] = np.zeros((self.dims[1], 1))        \n",
    "        self.param['W2'] = np.random.randn(self.dims[2], self.dims[1]) / np.sqrt(self.dims[1]) \n",
    "        self.param['b2'] = np.zeros((self.dims[2], 1))                \n",
    "        return"
   ]
  },
  {
   "cell_type": "code",
   "execution_count": 6,
   "metadata": {},
   "outputs": [
    {
     "ename": "SyntaxError",
     "evalue": "invalid syntax (<ipython-input-6-1a5405f84053>, line 4)",
     "output_type": "error",
     "traceback": [
      "\u001b[0;36m  File \u001b[0;32m\"<ipython-input-6-1a5405f84053>\"\u001b[0;36m, line \u001b[0;32m4\u001b[0m\n\u001b[0;31m    return np.maximum(0,Z)def\u001b[0m\n\u001b[0m                            ^\u001b[0m\n\u001b[0;31mSyntaxError\u001b[0m\u001b[0;31m:\u001b[0m invalid syntax\n"
     ]
    }
   ],
   "source": [
    "def Sigmoid(Z):\n",
    "    return 1/(1+np.exp(-Z))\n",
    "\n",
    "def dSigmoid(Z):\n",
    "    s = 1/(1+np(1+np.exp(Z))\n",
    "    return s(1-s)\n",
    "           \n",
    "def Relu(Z):\n",
    "    return np.maximum(0,Z)\n",
    "\n",
    "def dRelu(x):\n",
    "    x[x<0] = 0\n",
    "    x[x>0] = 1\n",
    "    return x\n",
    "           \n",
    "def nLoss(self,Yh):\n",
    "    loss = -(1./self.sam)*(np.dot(self.Y,log(Yh).T) + np.dot(1-self.Y, np.log(1-Yh).T))\n",
    "    return loss"
   ]
  },
  {
   "cell_type": "code",
   "execution_count": 7,
   "metadata": {},
   "outputs": [
    {
     "ename": "SyntaxError",
     "evalue": "can't assign to literal (<ipython-input-7-c13972a96b0b>, line 9)",
     "output_type": "error",
     "traceback": [
      "\u001b[0;36m  File \u001b[0;32m\"<ipython-input-7-c13972a96b0b>\"\u001b[0;36m, line \u001b[0;32m9\u001b[0m\n\u001b[0;31m    ['A2']=Z2,A2\u001b[0m\n\u001b[0;31mSyntaxError\u001b[0m\u001b[0;31m:\u001b[0m can't assign to literal\n"
     ]
    }
   ],
   "source": [
    "def forward(self):    \n",
    "        Z1 = self.param['W1'].dot(self.X) + self.param['b1'] \n",
    "        A1 = Relu(Z1)\n",
    "        self.ch['Z1'],self.ch['A1']=Z1,A1\n",
    "        \n",
    "        Z2 = self.param['W2'].dot(A1) + self.param['b2']  \n",
    "        A2 = Sigmoid(Z2)\n",
    "        self.ch['Z2'],self.ch['A2']=Z2,A2        \n",
    "        self.Yh = A2\n",
    "        loss = self.nloss(A2)\n",
    "        return self.Yh, loss\n",
    "    "
   ]
  },
  {
   "cell_type": "code",
   "execution_count": null,
   "metadata": {},
   "outputs": [],
   "source": [
    "def backward(self):\n",
    "    \n",
    "    # Output\n",
    "    dloss_Yh = -np.divide(self.Y,self.Yh)-np.divide(1-self.Y,1-self.Yh)\n",
    "    \n",
    "    # layer 2\n",
    "    dloss_Z2 = dloss_Yh * dSigmoid(self.ch['Z2'])\n",
    "    dloss_A2 = np.dot(self.param['W2'].T,dloss_Z2)\n",
    "    dloss_W2 = 1./self.ch['A2'].shape[1] * np.dot(dloss_Z2,self.ch['A2'].T)\n",
    "    \n",
    "    # layer 1\n",
    "    dloss_Z1 = np.dot(dloss_A1 * dRelu(self.ch['Z1'])\n",
    "    dloss_A1 = np.dot(self.param['W1'].T,dloss_Z1)\n",
    "    dloss_W1 = 1./self.X.shape[1] * np.dot(dloss_Z1,self.X.T)\n",
    "    \n",
    "    \n",
    "                      \n",
    "    \n",
    "    \n",
    "    \n",
    "    \n",
    "    "
   ]
  }
 ],
 "metadata": {
  "kernelspec": {
   "display_name": "Python 2",
   "language": "python",
   "name": "python2"
  },
  "language_info": {
   "codemirror_mode": {
    "name": "ipython",
    "version": 2
   },
   "file_extension": ".py",
   "mimetype": "text/x-python",
   "name": "python",
   "nbconvert_exporter": "python",
   "pygments_lexer": "ipython2",
   "version": "2.7.15+"
  }
 },
 "nbformat": 4,
 "nbformat_minor": 2
}
